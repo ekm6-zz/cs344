{
  "nbformat": 4,
  "nbformat_minor": 0,
  "metadata": {
    "colab": {
      "name": "Homework3.ipynb",
      "provenance": [],
      "collapsed_sections": [
        "nxnXfqS9EodM",
        "M9vYVdbJJXXc"
      ]
    },
    "kernelspec": {
      "name": "python3",
      "display_name": "Python 3"
    }
  },
  "cells": [
    {
      "cell_type": "markdown",
      "metadata": {
        "id": "8qdBawCn8s8E",
        "colab_type": "text"
      },
      "source": [
        "# CS 344 Homework #3\n",
        "#### Enoch Mwesigwa\n",
        "#### Keith Vander Linden\n",
        "\n"
      ]
    },
    {
      "cell_type": "markdown",
      "metadata": {
        "id": "qF1rC6eg85yn",
        "colab_type": "text"
      },
      "source": [
        "## Exercise 1"
      ]
    },
    {
      "cell_type": "markdown",
      "metadata": {
        "id": "Bo58IRA_ZI6B",
        "colab_type": "text"
      },
      "source": [
        "\n",
        "Gain(Price) = Entropy(WillWait) - Remainder(price)\n",
        "\n",
        "<br/>\n",
        "<br/>\n",
        "Entropy(WillWait) = P(yes) * lg(P(yes)) + P(no) * lg(P(no))\n",
        "                 <br/> = (.5) * lg(.5) + (.5)log(.5)\n",
        "                 <br/> = 1\n",
        "<br/>\n",
        "<br/>\n",
        "Remainder(price) = (3 + 4)/(6 + 6) * E(3/7, 4/7) + (2)/(6 + 6) * E(2/2, 0/2) + (1 + 2)/(6 + 6) * E(1/3, 2/3)\n",
        "\n",
        "<br/>\n",
        "= (7/12) * -[ (3/7) * lg(3/7) + (4/7) * lg(4/7)] \n",
        "<br/> + (2/12) * -[ (2/2) * lg(2/2) + 0 ] \n",
        "<br/> + (3/12) * -[ (1/3) * lg(1/3) + (2/3) * lg(2/3) ]\n",
        "\n",
        "\n",
        "<br/><br/>\n",
        "Gain(price) = Entropy(WillWait) - Remainder(price)\n",
        "<br/>\n",
        "= 1 - 0.804\n",
        "<br/>\n",
        "= 0.196\n"
      ]
    },
    {
      "cell_type": "markdown",
      "metadata": {
        "id": "YhTkiMimEFa5",
        "colab_type": "text"
      },
      "source": [
        "Since the gain for price is lower than the gain for patrons, patron's is more valuable."
      ]
    },
    {
      "cell_type": "markdown",
      "metadata": {
        "id": "NeGFDkiT8-kp",
        "colab_type": "text"
      },
      "source": [
        "## Exercise 2"
      ]
    },
    {
      "cell_type": "markdown",
      "metadata": {
        "id": "GlsaPRBg84Kl",
        "colab_type": "text"
      },
      "source": [
        "Based on the network we made in class, it is possible to a model that learns the XOR function. The XOR funtion is not linear seprable, so the only way to make network that works would be for us to violate the sequntial layer rule."
      ]
    },
    {
      "cell_type": "markdown",
      "metadata": {
        "id": "_VIde2qX9Cat",
        "colab_type": "text"
      },
      "source": [
        "## Exercise 3"
      ]
    },
    {
      "cell_type": "code",
      "metadata": {
        "id": "GbxMWnZo9Fiu",
        "colab_type": "code",
        "colab": {}
      },
      "source": [
        "import tensorflow.keras\n",
        "import numpy as np\n",
        "import pandas as pd\n",
        "from tensorflow.keras.datasets import boston_housing\n",
        "from sklearn.datasets import load_boston\n",
        "import random\n",
        "import math"
      ],
      "execution_count": 0,
      "outputs": []
    },
    {
      "cell_type": "code",
      "metadata": {
        "id": "WPCc1P_GAV1K",
        "colab_type": "code",
        "colab": {}
      },
      "source": [
        "(train_data, train_targets), (test_data, test_targets) =  boston_housing.load_data()"
      ],
      "execution_count": 0,
      "outputs": []
    },
    {
      "cell_type": "markdown",
      "metadata": {
        "id": "nxnXfqS9EodM",
        "colab_type": "text"
      },
      "source": [
        "### A) Compute the dimensions of the data structures."
      ]
    },
    {
      "cell_type": "code",
      "metadata": {
        "id": "T9a7mQHA--Sk",
        "colab_type": "code",
        "colab": {
          "base_uri": "https://localhost:8080/",
          "height": 0
        },
        "outputId": "a53f25b7-d5b4-4051-9627-8292cd7dbbae"
      },
      "source": [
        "print( \"There are\", train_data.shape[0] + test_data.shape[0], \"total records and\",\n",
        "      train_data.shape[1], \"features in this dataset.\")\n"
      ],
      "execution_count": 81,
      "outputs": [
        {
          "output_type": "stream",
          "text": [
            "There are 506 total records and 13 features in this dataset.\n"
          ],
          "name": "stdout"
        }
      ]
    },
    {
      "cell_type": "markdown",
      "metadata": {
        "id": "M9vYVdbJJXXc",
        "colab_type": "text"
      },
      "source": [
        "### B) Construct a suitable testing set, training set, and validation set for this data. \n"
      ]
    },
    {
      "cell_type": "code",
      "metadata": {
        "id": "d6rkUcpO_Wyz",
        "colab_type": "code",
        "colab": {}
      },
      "source": [
        "def split_data(orig_train_data, orig_train_targets, orig_test_data, orig_test_targets):\n",
        "  \n",
        "  # convert np arrays to pandas df to combine them\n",
        "  orig_train_df = pd.DataFrame(orig_train_data)\n",
        "  orig_test_df = pd.DataFrame(orig_test_data)\n",
        "  all_data_df = orig_train_df.append(orig_test_df)\n",
        "\n",
        "  # confirm it worked\n",
        "  target_shape = (orig_train_data.shape[0] + orig_test_data.shape[0], orig_train_data.shape[1])\n",
        "  assert (all_data_df.shape == target_shape)\n",
        "\n",
        "  # simularly combine targets\n",
        "  all_targets = np.append(orig_train_targets, orig_test_targets)\n",
        "  assert (len(all_targets) == target_shape[0])\n",
        "\n",
        "  # split into training and testing data\n",
        "  # 15% testing\n",
        "  # 15% validation\n",
        "  # 70% training\n",
        "  all_indices = list(range(0, all_data_df.shape[0]))\n",
        "  test_indeces= random.sample(range(0, all_data_df.shape[0]), \n",
        "                               math.floor(all_data_df.shape[0] *.15) )\n",
        "  remaining_indices = np.setdiff1d(all_indices, test_indeces).tolist()\n",
        "  val_indicies= random.sample(remaining_indices, \n",
        "                               math.floor(all_data_df.shape[0] *.15) )\n",
        "  train_indices = np.setdiff1d(remaining_indices, val_indicies).tolist()\n",
        "  \n",
        "  #slit the data\n",
        "  test_df = all_data_df.iloc[test_indeces]\n",
        "  test_targets = all_targets[test_indeces]\n",
        "  \n",
        "  val_df = all_data_df.iloc[val_indicies]\n",
        "  val_targets = all_targets[val_indicies]\n",
        "  \n",
        "  train_df = all_data_df.iloc[train_indices]\n",
        "  train_targets = all_targets[train_indices] \n",
        "\n",
        "  #make sure it worked\n",
        "  assert test_df.shape[0] == len(test_targets) == val_df.shape[0] == len(val_targets)\n",
        "  assert test_df.shape[1] == train_df.shape[1] == val_df.shape[1] == 13\n",
        "  assert (test_df.shape[0] + val_df.shape[0] + train_df.shape[0]) == all_data_df.shape[0]\n",
        "  assert len(train_targets) +len(test_targets) + len(val_targets) == len(all_targets)\n",
        "\n",
        "  # return\n",
        "  return (train_df, train_targets, val_df, val_targets, test_df, test_targets)                      "
      ],
      "execution_count": 0,
      "outputs": []
    },
    {
      "cell_type": "markdown",
      "metadata": {
        "id": "1Dde0t8Blgnz",
        "colab_type": "text"
      },
      "source": [
        "### C) Create one new synthetic feature that could be useful for machine learning in this domain. Explain what it is and why it might be useful, and submit code to add it to the dataset.\n",
        "\n"
      ]
    },
    {
      "cell_type": "markdown",
      "metadata": {
        "id": "62h7iEZSoVS_",
        "colab_type": "text"
      },
      "source": [
        "A useful feature to add to this dataset could be taxes per $10,000 of rooms. This is another metric to indicate the cost of living in a nieghboorhood. This is epecially nice because it maps taxes relative to the size of the house."
      ]
    },
    {
      "cell_type": "code",
      "metadata": {
        "id": "QIKEVJeglppg",
        "colab_type": "code",
        "colab": {
          "base_uri": "https://localhost:8080/",
          "height": 192
        },
        "outputId": "51f0cf85-f05f-4ebc-a422-92e2b8891c07"
      },
      "source": [
        "train_df = pd.DataFrame(train_data)\n",
        "test_df = pd.DataFrame(test_data)\n",
        "full_df = train_df.append(test_df)\n",
        "full_df.rename({0:'crim', 1: 'zn', 2:'indus', \n",
        "                3: 'chas', 4: 'nox', 6: 'age',\n",
        "                5: 'rm', 7: 'dis', \n",
        "                8: 'rad', 9: 'tax', \n",
        "                10: 'ptratio', 11: 'black', 12: 'lstat'}, axis=1, inplace=True)\n",
        "\n",
        "full_df['taxes_per_room'] = full_df['tax']/full_df['rm']\n",
        "full_df.head()"
      ],
      "execution_count": 123,
      "outputs": [
        {
          "output_type": "execute_result",
          "data": {
            "text/html": [
              "<div>\n",
              "<style scoped>\n",
              "    .dataframe tbody tr th:only-of-type {\n",
              "        vertical-align: middle;\n",
              "    }\n",
              "\n",
              "    .dataframe tbody tr th {\n",
              "        vertical-align: top;\n",
              "    }\n",
              "\n",
              "    .dataframe thead th {\n",
              "        text-align: right;\n",
              "    }\n",
              "</style>\n",
              "<table border=\"1\" class=\"dataframe\">\n",
              "  <thead>\n",
              "    <tr style=\"text-align: right;\">\n",
              "      <th></th>\n",
              "      <th>crim</th>\n",
              "      <th>zn</th>\n",
              "      <th>indus</th>\n",
              "      <th>chas</th>\n",
              "      <th>nox</th>\n",
              "      <th>rm</th>\n",
              "      <th>age</th>\n",
              "      <th>dis</th>\n",
              "      <th>rad</th>\n",
              "      <th>tax</th>\n",
              "      <th>ptratio</th>\n",
              "      <th>black</th>\n",
              "      <th>lstat</th>\n",
              "      <th>tax_per_room</th>\n",
              "    </tr>\n",
              "  </thead>\n",
              "  <tbody>\n",
              "    <tr>\n",
              "      <th>0</th>\n",
              "      <td>1.23247</td>\n",
              "      <td>0.0</td>\n",
              "      <td>8.14</td>\n",
              "      <td>0.0</td>\n",
              "      <td>0.538</td>\n",
              "      <td>6.142</td>\n",
              "      <td>91.7</td>\n",
              "      <td>3.9769</td>\n",
              "      <td>4.0</td>\n",
              "      <td>307.0</td>\n",
              "      <td>21.0</td>\n",
              "      <td>396.90</td>\n",
              "      <td>18.72</td>\n",
              "      <td>49.983719</td>\n",
              "    </tr>\n",
              "    <tr>\n",
              "      <th>1</th>\n",
              "      <td>0.02177</td>\n",
              "      <td>82.5</td>\n",
              "      <td>2.03</td>\n",
              "      <td>0.0</td>\n",
              "      <td>0.415</td>\n",
              "      <td>7.610</td>\n",
              "      <td>15.7</td>\n",
              "      <td>6.2700</td>\n",
              "      <td>2.0</td>\n",
              "      <td>348.0</td>\n",
              "      <td>14.7</td>\n",
              "      <td>395.38</td>\n",
              "      <td>3.11</td>\n",
              "      <td>45.729304</td>\n",
              "    </tr>\n",
              "    <tr>\n",
              "      <th>2</th>\n",
              "      <td>4.89822</td>\n",
              "      <td>0.0</td>\n",
              "      <td>18.10</td>\n",
              "      <td>0.0</td>\n",
              "      <td>0.631</td>\n",
              "      <td>4.970</td>\n",
              "      <td>100.0</td>\n",
              "      <td>1.3325</td>\n",
              "      <td>24.0</td>\n",
              "      <td>666.0</td>\n",
              "      <td>20.2</td>\n",
              "      <td>375.52</td>\n",
              "      <td>3.26</td>\n",
              "      <td>134.004024</td>\n",
              "    </tr>\n",
              "    <tr>\n",
              "      <th>3</th>\n",
              "      <td>0.03961</td>\n",
              "      <td>0.0</td>\n",
              "      <td>5.19</td>\n",
              "      <td>0.0</td>\n",
              "      <td>0.515</td>\n",
              "      <td>6.037</td>\n",
              "      <td>34.5</td>\n",
              "      <td>5.9853</td>\n",
              "      <td>5.0</td>\n",
              "      <td>224.0</td>\n",
              "      <td>20.2</td>\n",
              "      <td>396.90</td>\n",
              "      <td>8.01</td>\n",
              "      <td>37.104522</td>\n",
              "    </tr>\n",
              "    <tr>\n",
              "      <th>4</th>\n",
              "      <td>3.69311</td>\n",
              "      <td>0.0</td>\n",
              "      <td>18.10</td>\n",
              "      <td>0.0</td>\n",
              "      <td>0.713</td>\n",
              "      <td>6.376</td>\n",
              "      <td>88.4</td>\n",
              "      <td>2.5671</td>\n",
              "      <td>24.0</td>\n",
              "      <td>666.0</td>\n",
              "      <td>20.2</td>\n",
              "      <td>391.43</td>\n",
              "      <td>14.65</td>\n",
              "      <td>104.454203</td>\n",
              "    </tr>\n",
              "  </tbody>\n",
              "</table>\n",
              "</div>"
            ],
            "text/plain": [
              "      crim    zn  indus  chas  ...  ptratio   black  lstat  tax_per_room\n",
              "0  1.23247   0.0   8.14   0.0  ...     21.0  396.90  18.72     49.983719\n",
              "1  0.02177  82.5   2.03   0.0  ...     14.7  395.38   3.11     45.729304\n",
              "2  4.89822   0.0  18.10   0.0  ...     20.2  375.52   3.26    134.004024\n",
              "3  0.03961   0.0   5.19   0.0  ...     20.2  396.90   8.01     37.104522\n",
              "4  3.69311   0.0  18.10   0.0  ...     20.2  391.43  14.65    104.454203\n",
              "\n",
              "[5 rows x 14 columns]"
            ]
          },
          "metadata": {
            "tags": []
          },
          "execution_count": 123
        }
      ]
    },
    {
      "cell_type": "code",
      "metadata": {
        "id": "E5Vzlp_QrYl4",
        "colab_type": "code",
        "colab": {}
      },
      "source": [
        ""
      ],
      "execution_count": 0,
      "outputs": []
    }
  ]
}